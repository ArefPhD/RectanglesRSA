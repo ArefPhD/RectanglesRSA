{
  "nbformat": 4,
  "nbformat_minor": 0,
  "metadata": {
    "colab": {
      "private_outputs": true,
      "provenance": []
    },
    "kernelspec": {
      "name": "python3",
      "display_name": "Python 3"
    },
    "language_info": {
      "name": "python"
    }
  },
  "cells": [
    {
      "cell_type": "code",
      "execution_count": null,
      "metadata": {
        "id": "sSWLXJdjvMJM"
      },
      "outputs": [],
      "source": [
        "import numpy as np\n",
        "import matplotlib.pyplot as plt\n",
        "from shapely.geometry import Polygon, Point\n",
        "from scipy.io import savemat\n",
        "import time\n",
        "\n",
        "# Define the dimensions of the rectangular surface\n",
        "Lx = 10  # length in x-direction\n",
        "Ly = 10  # length in y-direction\n",
        "\n",
        "# Define the dimensions of the rectangles\n",
        "w = 0.5  # width\n",
        "h = 1.0  # height\n",
        "\n",
        "# Initialize a list to store the rectangles\n",
        "rectangles = []\n",
        "\n",
        "# Define the maximum distance for checking overlap\n",
        "max_dist = w + h\n",
        "\n",
        "# Initialize a matrix to record total and successful attempts\n",
        "attempts = np.zeros((1, 10000000))\n",
        "succ_attempts = np.zeros((1, 10000000))\n",
        "n = 0\n",
        "m = 0\n",
        "\n",
        "# Loop over the number of rectangles to place\n",
        "for i in range(10000000):\n",
        "\n",
        "    # Initialize a flag to indicate whether the rectangle has been successfully placed\n",
        "    placed = False\n",
        "\n",
        "    # Loop until the rectangle is successfully placed\n",
        "    while not placed:\n",
        "\n",
        "        # Increment the total attempts counter\n",
        "        attempts[0, n] += 1\n",
        "        n += 1\n",
        "\n",
        "        # Generate a random position for the center of the rectangle\n",
        "        x = np.random.uniform(w/2, Lx - w/2)\n",
        "        y = np.random.uniform(h/2, Ly - h/2)\n",
        "\n",
        "        # Create a Polygon object for the rectangle\n",
        "        rectangle = Polygon([(x-w/2, y-h/2), (x+w/2, y-h/2), (x+w/2, y+h/2), (x-w/2, y+h/2)])\n",
        "\n",
        "        # Check if the rectangle overlaps with any existing rectangles within a certain distance\n",
        "        overlap = False\n",
        "        for j in range(len(rectangles)):\n",
        "            if Point(rectangle.centroid).distance(Point(rectangles[j].centroid)) <= max_dist and rectangle.intersects(\n",
        "                    rectangles[j]):\n",
        "                overlap = True\n",
        "                break\n",
        "\n",
        "        # If the rectangle does not overlap, add it to the list of rectangles, increment the successful attempts counter, and set the placed flag to True\n",
        "        if not overlap:\n",
        "            rectangles.append(rectangle)\n",
        "            succ_attempts[0, m] += 1\n",
        "            m += 1\n",
        "            placed = True\n",
        "            print(f'Rectangles placed: {len(rectangles)}')\n",
        "\n",
        "# Plot the final configuration of rectangles\n",
        "fig, ax = plt.subplots()\n",
        "for rectangle in rectangles:\n",
        "    ax.plot(*rectangle.exterior.xy)\n",
        "plt.show()\n"
      ]
    },
    {
      "cell_type": "code",
      "source": [
        "fig, ax = plt.subplots()\n",
        "for rectangle in rectangles:\n",
        "    ax.plot(*rectangle.exterior.xy)\n",
        "plt.show()"
      ],
      "metadata": {
        "id": "z6MMeYkfvZVB"
      },
      "execution_count": null,
      "outputs": []
    }
  ]
}